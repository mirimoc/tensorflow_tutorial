{
 "cells": [
  {
   "cell_type": "code",
   "execution_count": 1,
   "metadata": {},
   "outputs": [
    {
     "name": "stderr",
     "output_type": "stream",
     "text": [
      "C:\\Programme\\Anaconda3\\lib\\site-packages\\h5py\\__init__.py:36: FutureWarning: Conversion of the second argument of issubdtype from `float` to `np.floating` is deprecated. In future, it will be treated as `np.float64 == np.dtype(float).type`.\n",
      "  from ._conv import register_converters as _register_converters\n"
     ]
    }
   ],
   "source": [
    "import tensorflow as tf\n",
    "import matplotlib.pyplot as plt"
   ]
  },
  {
   "cell_type": "markdown",
   "metadata": {},
   "source": [
    "## Eingangssignale: Zustände der Gäste \n",
    "\n",
    "Wie beschrieben, unterteilt sich nun"
   ]
  },
  {
   "cell_type": "code",
   "execution_count": 2,
   "metadata": {},
   "outputs": [],
   "source": [
    "# Eingangssignale, Tensor\n",
    "# Zustand der Gäste -> je  größer die Zahl desto größer der Angstzustand der Gäste\n",
    "x_input = [[-10], # <- Angstzustand Gast 1\n",
    "           [-5],  # <- Angstzustand Gast 2\n",
    "           [-2],  # <- Angstzustand Gast 3\n",
    "           [-1],\n",
    "           [2],\n",
    "           [1],\n",
    "           [5],\n",
    "           [9]]   # <- Angstzustand Gast 8\n",
    "\n",
    "# gewünschtes Ausgangssignal, Tensor\n",
    "# Endzustand der Gäste -> Wunsch die Bahn nie gefahren zu sein\n",
    "y_input = [[0], \n",
    "           [0],\n",
    "           [0],\n",
    "           [0],\n",
    "           [0],\n",
    "           [0],\n",
    "           [1], # <- bereut die Fahrt\n",
    "           [1]] # <- bereut die Fahrt"
   ]
  },
  {
   "cell_type": "markdown",
   "metadata": {},
   "source": [
    "## Erstellung unseres Graphen: Konstruktion der Achterbahn"
   ]
  },
  {
   "cell_type": "code",
   "execution_count": null,
   "metadata": {},
   "outputs": [],
   "source": [
    "# Platzhalter\n",
    "    # Wagon, Eingangsgröße\n",
    "wagon = tf.placeholder(tf.float32, shape = [8, 1])\n",
    "    # gewünschter Endzustand der Gäste\n",
    "ziel = tf.placeholder(tf.float32, shape = [8, 1]) \n",
    "y_true = ziel\n",
    "# Variable \n",
    "    # Geschwindigkeit des Wagons\n",
    "v = tf.Variable(tf.random_normal(shape=[1,1]))\n",
    "\n",
    "# Knoten mit Matrizenoperator, Fahrelement, z.B. Airtime-Hügel\n",
    "knoten = tf.nn.leaky_relu(tf.matmul(wagon, v))\n",
    "y_pred = knoten\n",
    "# Fehlerfunktion\n",
    "err = tf.reduce_mean(tf.pow(y_true - y_pred,2))\n",
    "# Optimierer\n",
    "opt = tf.train.GradientDescentOptimizer(learning_rate=0.005).minimize(err)\n",
    "# Initialisierung der Variablen (Geschwindigkeit)\n",
    "init = tf.global_variables_initializer()"
   ]
  }
 ],
 "metadata": {
  "kernelspec": {
   "display_name": "Python 3",
   "language": "python",
   "name": "python3"
  },
  "language_info": {
   "codemirror_mode": {
    "name": "ipython",
    "version": 3
   },
   "file_extension": ".py",
   "mimetype": "text/x-python",
   "name": "python",
   "nbconvert_exporter": "python",
   "pygments_lexer": "ipython3",
   "version": "3.6.5"
  },
  "latex_envs": {
   "LaTeX_envs_menu_present": true,
   "autoclose": true,
   "autocomplete": true,
   "bibliofile": "biblio.bib",
   "cite_by": "apalike",
   "current_citInitial": 1,
   "eqLabelWithNumbers": true,
   "eqNumInitial": 1,
   "hotkeys": {
    "equation": "Ctrl-E",
    "itemize": "Ctrl-I"
   },
   "labels_anchors": false,
   "latex_user_defs": false,
   "report_style_numbering": false,
   "user_envs_cfg": false
  }
 },
 "nbformat": 4,
 "nbformat_minor": 2
}
