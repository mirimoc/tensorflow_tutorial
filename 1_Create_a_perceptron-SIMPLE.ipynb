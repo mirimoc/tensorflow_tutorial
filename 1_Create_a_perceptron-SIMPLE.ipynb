{
 "cells": [
  {
   "cell_type": "code",
   "execution_count": 1,
   "metadata": {
    "ExecuteTime": {
     "end_time": "2018-12-28T13:14:11.350846Z",
     "start_time": "2018-12-28T13:14:05.859963Z"
    },
    "run_control": {
     "marked": true
    },
    "scrolled": true
   },
   "outputs": [],
   "source": [
    "import tensorflow as tf\n",
    "import numpy as np\n",
    "import matplotlib.pyplot as plt\n",
    "import pandas as pd\n",
    "\n",
    "# Reset des TensorFlows\n",
    "tf.reset_default_graph() "
   ]
  },
  {
   "cell_type": "markdown",
   "metadata": {},
   "source": [
    "# Daten laden und eigene Definitionen"
   ]
  },
  {
   "cell_type": "code",
   "execution_count": 2,
   "metadata": {
    "ExecuteTime": {
     "end_time": "2018-12-28T13:14:11.404127Z",
     "start_time": "2018-12-28T13:14:11.354264Z"
    }
   },
   "outputs": [],
   "source": [
    "data = pd.read_csv('data_train.csv')\n",
    "input_X = data[['x0', 'x1']]\n",
    "input_y = data.y\n",
    "\n",
    "data_test = pd.read_csv('data_test.csv')\n",
    "test_X = data_test[['x0', 'x1']]\n",
    "test_y = data_test.y"
   ]
  },
  {
   "attachments": {},
   "cell_type": "markdown",
   "metadata": {},
   "source": [
    "Damit unser Modell schneller lernt, teilen wir unseren Datensatz in Stapel ein. Dafür erstellen wir eine Funktion, welche unseren Datensatz in Stapel teilt!\n",
    "\n",
    "<img src=\"Stapel.png\"/>\n",
    "\n",
    "Je nach Datensatz und Modell empfehlt sich eine andere Stapelgröße. "
   ]
  },
  {
   "cell_type": "code",
   "execution_count": 3,
   "metadata": {
    "ExecuteTime": {
     "end_time": "2018-12-28T13:14:11.415137Z",
     "start_time": "2018-12-28T13:14:11.408666Z"
    }
   },
   "outputs": [],
   "source": [
    "def stapel_erstellen(X, Y, stapel_grosse, p_index):\n",
    "    return X[stapel_grosse * p_index: stapel_grosse * (p_index + 1)], Y[stapel_grosse * p_index: stapel_grosse * (p_index + 1)]"
   ]
  },
  {
   "cell_type": "markdown",
   "metadata": {},
   "source": [
    "# Erstellen des Graphen\n",
    "## Formen der Tensoren"
   ]
  },
  {
   "cell_type": "code",
   "execution_count": 4,
   "metadata": {
    "ExecuteTime": {
     "end_time": "2018-12-28T13:14:11.428062Z",
     "start_time": "2018-12-28T13:14:11.419446Z"
    }
   },
   "outputs": [],
   "source": [
    "# Anzahl der Ergebnissspalten\n",
    "anz_unit = 1\n",
    "# Anzahl der Eingänge bzw. Merkmale \n",
    "anz_ein = 2\n",
    "# Anzahl der Ausgänge\n",
    "anz_aus = 1"
   ]
  },
  {
   "cell_type": "markdown",
   "metadata": {},
   "source": [
    "## Parameter zur Steuerung des Graphen\n",
    "Die richtige Wahl der Parameter zur Steuerung des Graphen sind entscheidend, wenn es darum geht, wie schnell ein Modell lernt. Wenn wir zum Beispiel `anz_stapel=10` statt `anz_stapel=5` nutzen, dann brauch unser Modell länger um eine Genauigkeit von 100 % zu erreichen, wenn überhaupt. "
   ]
  },
  {
   "cell_type": "code",
   "execution_count": 5,
   "metadata": {
    "ExecuteTime": {
     "end_time": "2018-12-28T13:14:11.438206Z",
     "start_time": "2018-12-28T13:14:11.432233Z"
    }
   },
   "outputs": [],
   "source": [
    "# Lernrate\n",
    "eta = 0.1\n",
    "# Anzahl der der Pakete mit den zu analysierenden Datenwerte\n",
    "anz_stapel = 5\n",
    "# Anzahl der zu analysierenden Datenwerte\n",
    "stapel_grosse = int(len(input_X)/anz_stapel)\n",
    "# Anzahl der Wiederholungen\n",
    "epochen = 50"
   ]
  },
  {
   "cell_type": "markdown",
   "metadata": {},
   "source": [
    "## Relevante Größen"
   ]
  },
  {
   "cell_type": "code",
   "execution_count": 6,
   "metadata": {
    "ExecuteTime": {
     "end_time": "2018-12-28T13:14:11.497172Z",
     "start_time": "2018-12-28T13:14:11.443022Z"
    }
   },
   "outputs": [],
   "source": [
    "# Eingangssignal\n",
    "x = tf.placeholder(tf.float32, shape=[None, anz_ein],name='Input')  # Stapelgröße(k) x 2\n",
    "# Ausgangssignal\n",
    "y_true = tf.placeholder(tf.float32, shape=None, name='Labels')  # Stapelgröße(k) x 1\n",
    "# Gewichte\n",
    "w = tf.Variable(tf.random_normal([anz_ein, anz_unit]), name='Weights')  # 2x1"
   ]
  },
  {
   "cell_type": "markdown",
   "metadata": {},
   "source": [
    "## Berechnungsgleichungen\n",
    "In der Theorie sind wir immer nur einen Datenpunkt in Betracht gezogen. In TensorFlow wollen wir jedoch einen Stapel betrachten. Dadurch ändert sich die Berechnung ein wenig. Wir berechnen für alle Punkte eine Fehlerfunktion. Der Mittelwert aller Fehlerfunktionen, die Kostenfunktion, soll dann optimiert werden."
   ]
  },
  {
   "attachments": {},
   "cell_type": "markdown",
   "metadata": {},
   "source": [
    "<img src=\"stapel-epoche.png\"/>"
   ]
  },
  {
   "cell_type": "code",
   "execution_count": 7,
   "metadata": {
    "ExecuteTime": {
     "end_time": "2018-12-28T13:14:11.662471Z",
     "start_time": "2018-12-28T13:14:11.501867Z"
    }
   },
   "outputs": [],
   "source": [
    "# z = xw\n",
    "z = tf.matmul(x, w, name='Z')\n",
    "# H = y * -log(sigmoid(z)) + (1 - y) * -log(1 - sigmoid(z)) -> Kreuzentropie\n",
    "err = tf.reduce_mean(\n",
    "    tf.nn.sigmoid_cross_entropy_with_logits(labels=y_true, logits=z),name='Costfunction')\n",
    "# Minimieren der Fehlerfunktion\n",
    "opt = tf.train.GradientDescentOptimizer(learning_rate=eta).minimize(err)\n",
    "\n",
    "# Berechnung der Genauigkeit\n",
    "eins = tf.reshape(tf.round(tf.sigmoid(z)),[len(test_X), 1])\n",
    "zwei = tf.reshape(y_true,[len(test_X), 1])\n",
    "acc = tf.equal(eins, zwei)\n",
    "acc = tf.reduce_mean(tf.cast(acc, tf.float32), name='Accuracy')"
   ]
  },
  {
   "cell_type": "markdown",
   "metadata": {},
   "source": [
    "# Ausführung des Graphen\n",
    "Bei der Ausführung ist es wichtig, dass wir die Variablen initialisieren. Auch ist es vorteilhaft, wenn wir die Session mit `with` starten."
   ]
  },
  {
   "cell_type": "code",
   "execution_count": 8,
   "metadata": {
    "ExecuteTime": {
     "end_time": "2018-12-28T13:14:12.928867Z",
     "start_time": "2018-12-28T13:14:11.666669Z"
    }
   },
   "outputs": [
    {
     "name": "stdout",
     "output_type": "stream",
     "text": [
      "0. Epoche Genauigkeit: 50.75 %\n",
      "1. Epoche Genauigkeit: 65.00 %\n",
      "2. Epoche Genauigkeit: 80.75 %\n",
      "3. Epoche Genauigkeit: 93.00 %\n",
      "4. Epoche Genauigkeit: 97.75 %\n",
      "5. Epoche Genauigkeit: 98.75 %\n",
      "6. Epoche Genauigkeit: 99.75 %\n",
      "7. Epoche Genauigkeit: 100.00 %\n",
      "8. Epoche Genauigkeit: 100.00 %\n",
      "9. Epoche Genauigkeit: 100.00 %\n",
      "10. Epoche Genauigkeit: 100.00 %\n",
      "11. Epoche Genauigkeit: 100.00 %\n",
      "12. Epoche Genauigkeit: 100.00 %\n",
      "13. Epoche Genauigkeit: 100.00 %\n",
      "14. Epoche Genauigkeit: 100.00 %\n",
      "15. Epoche Genauigkeit: 100.00 %\n",
      "16. Epoche Genauigkeit: 100.00 %\n",
      "17. Epoche Genauigkeit: 100.00 %\n",
      "18. Epoche Genauigkeit: 100.00 %\n",
      "19. Epoche Genauigkeit: 100.00 %\n",
      "20. Epoche Genauigkeit: 100.00 %\n",
      "21. Epoche Genauigkeit: 100.00 %\n",
      "22. Epoche Genauigkeit: 100.00 %\n",
      "23. Epoche Genauigkeit: 100.00 %\n",
      "24. Epoche Genauigkeit: 100.00 %\n",
      "25. Epoche Genauigkeit: 100.00 %\n",
      "26. Epoche Genauigkeit: 100.00 %\n",
      "27. Epoche Genauigkeit: 100.00 %\n",
      "28. Epoche Genauigkeit: 100.00 %\n",
      "29. Epoche Genauigkeit: 100.00 %\n",
      "30. Epoche Genauigkeit: 100.00 %\n",
      "31. Epoche Genauigkeit: 100.00 %\n",
      "32. Epoche Genauigkeit: 100.00 %\n",
      "33. Epoche Genauigkeit: 100.00 %\n",
      "34. Epoche Genauigkeit: 100.00 %\n",
      "35. Epoche Genauigkeit: 100.00 %\n",
      "36. Epoche Genauigkeit: 100.00 %\n",
      "37. Epoche Genauigkeit: 100.00 %\n",
      "38. Epoche Genauigkeit: 100.00 %\n",
      "39. Epoche Genauigkeit: 100.00 %\n",
      "40. Epoche Genauigkeit: 100.00 %\n",
      "41. Epoche Genauigkeit: 100.00 %\n",
      "42. Epoche Genauigkeit: 100.00 %\n",
      "43. Epoche Genauigkeit: 100.00 %\n",
      "44. Epoche Genauigkeit: 100.00 %\n",
      "45. Epoche Genauigkeit: 100.00 %\n",
      "46. Epoche Genauigkeit: 100.00 %\n",
      "47. Epoche Genauigkeit: 100.00 %\n",
      "48. Epoche Genauigkeit: 100.00 %\n",
      "49. Epoche Genauigkeit: 100.00 %\n"
     ]
    }
   ],
   "source": [
    "# Größen zur späteren Datenvisualisierung\n",
    "W_set = []\n",
    "Err_set = []\n",
    "Acc_set = []\n",
    "# Initialisierung der Variablen\n",
    "init = tf.global_variables_initializer()\n",
    "# Ausführung des Graphen\n",
    "with tf.Session() as sess:\n",
    "    # Wichtig für TensorBoard\n",
    "    writer = tf.summary.FileWriter('./graphs/perceptron', sess.graph)\n",
    "    sess.run(init)\n",
    "    # Schleife für Epoche\n",
    "    for e in range(epochen):\n",
    "        # Schleife für Stapel\n",
    "        for i in range(anz_stapel):\n",
    "            # Einteilen unserer Daten in Stapel\n",
    "            stapel_x, stapel_y = stapel_erstellen(X=input_X,\n",
    "                                                  Y=input_y,\n",
    "                                                  stapel_grosse=stapel_grosse,\n",
    "                                                  p_index=i)\n",
    "            # Ausführung der Berechnung\n",
    "            Z, W, _, Err = sess.run([z, w, opt, err],\n",
    "                                    feed_dict={x: stapel_x, y_true: stapel_y})\n",
    "\n",
    "        # Datenspeicherung für Visualisierung über die Epochen\n",
    "        W_set.append(W)\n",
    "        Err_set.append(np.mean(Err))\n",
    "        Acc = sess.run([acc],\n",
    "                       feed_dict={x: test_X, y_true: test_y})\n",
    "        Acc_set.append(Acc)\n",
    "        print('{:}. Epoche Genauigkeit: {:.2f} %'.format(e, Acc[0]*100))\n",
    "    sess.close()"
   ]
  },
  {
   "cell_type": "code",
   "execution_count": 9,
   "metadata": {
    "ExecuteTime": {
     "end_time": "2018-12-28T13:14:13.996709Z",
     "start_time": "2018-12-28T13:14:12.935069Z"
    }
   },
   "outputs": [
    {
     "data": {
      "image/png": "[encoded data removed]",
      "text/plain": [
       "<Figure size 1080x2160 with 3 Axes>"
      ]
     },
     "metadata": {
      "needs_background": "light"
     },
     "output_type": "display_data"
    }
   ],
   "source": [
    "w_0, w_1 = zip(*W_set)\n",
    "fig, ax = plt.subplots(3,1, figsize=(15,30), sharex='all')\n",
    "ax[0].plot(range(len(W_set)), w_0, label='w0')\n",
    "ax[0].plot(range(len(W_set)), w_1, label='w1')\n",
    "ax[0].legend()\n",
    "ax[0].grid()\n",
    "ax[0].set_title('Gewichte')\n",
    "\n",
    "ax[1].plot(range(len(W_set)), Err_set, c='r', label='err')\n",
    "ax[1].legend()\n",
    "ax[1].set_title('Fehlerfunktion')\n",
    "ax[1].grid()\n",
    "\n",
    "ax[2].plot(range(len(W_set)), Acc_set, c='g', label='acc')\n",
    "ax[2].legend()\n",
    "ax[2].set_title('Genauigkeit')\n",
    "ax[2].set_xlabel('Epoche')\n",
    "ax[2].grid()"
   ]
  },
  {
   "cell_type": "markdown",
   "metadata": {},
   "source": [
    "# Zusammenfassung\n",
    "Nun haben wir unser Perzeptron erfolgreich mit TensorFlow realisiert. Um ein Gefühl zu bekommen, könnt ihr gerne mit den \"Parameter zur Steuerung des Graphen\" herumexperimentieren. Je nach Auswahl der Parameter ändert sich die Optimierung und sogar die Genauigkeit unseres Modells. Bei so einfachen Daten, sollte unser Modell definitiv 100% Genauigkeit erreichen. Dies ist jedoch nur möglich, wenn wir die richtigen Parameter wählen. Probiert es also einfach mal aus."
   ]
  }
 ],
 "metadata": {
  "kernelspec": {
   "display_name": "Python3TF",
   "language": "python",
   "name": "python3tf"
  },
  "language_info": {
   "codemirror_mode": {
    "name": "ipython",
    "version": 3
   },
   "file_extension": ".py",
   "mimetype": "text/x-python",
   "name": "python",
   "nbconvert_exporter": "python",
   "pygments_lexer": "ipython3",
   "version": "3.6.6"
  },
  "latex_envs": {
   "LaTeX_envs_menu_present": true,
   "autoclose": true,
   "autocomplete": true,
   "bibliofile": "biblio.bib",
   "cite_by": "apalike",
   "current_citInitial": 1,
   "eqLabelWithNumbers": true,
   "eqNumInitial": 1,
   "hotkeys": {
    "equation": "Ctrl-E",
    "itemize": "Ctrl-I"
   },
   "labels_anchors": false,
   "latex_user_defs": false,
   "report_style_numbering": false,
   "user_envs_cfg": false
  },
  "toc": {
   "base_numbering": 1,
   "nav_menu": {},
   "number_sections": true,
   "sideBar": true,
   "skip_h1_title": false,
   "title_cell": "Table of Contents",
   "title_sidebar": "Contents",
   "toc_cell": false,
   "toc_position": {},
   "toc_section_display": true,
   "toc_window_display": false
  },
  "varInspector": {
   "cols": {
    "lenName": 16,
    "lenType": 16,
    "lenVar": 40
   },
   "kernels_config": {
    "python": {
     "delete_cmd_postfix": "",
     "delete_cmd_prefix": "del ",
     "library": "var_list.py",
     "varRefreshCmd": "print(var_dic_list())"
    },
    "r": {
     "delete_cmd_postfix": ") ",
     "delete_cmd_prefix": "rm(",
     "library": "var_list.r",
     "varRefreshCmd": "cat(var_dic_list()) "
    }
   },
   "types_to_exclude": [
    "module",
    "function",
    "builtin_function_or_method",
    "instance",
    "_Feature"
   ],
   "window_display": false
  }
 },
 "nbformat": 4,
 "nbformat_minor": 2
}
